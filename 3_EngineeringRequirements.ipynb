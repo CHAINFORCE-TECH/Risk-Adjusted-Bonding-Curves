{
 "cells": [
  {
   "cell_type": "markdown",
   "metadata": {},
   "source": [
    "# Engineering Requirements\n",
    "Now that we've defined the roles and bond lifecycle phases, we can create formal mathematical definitions and requirements for the ecosystem. We will take the roles identified and categorize them into classes of agents based on the types of actions that they can take. We will also define the system state variables, mechanisms, and initialization/settlement conditions.   \n",
    "\n",
    "## Assumptions\n",
    "#### Assumption 1\n",
    "The initial value for Alpha is pre-calculated externally and then set upon initialization of the bond.\n"
   ]
  },
  {
   "cell_type": "markdown",
   "metadata": {},
   "source": [
    "## Agents\n",
    "\n",
    "#### Definition 1\n",
    "Let A be the set of all possible addresses that interact within the system. At any timestep, the set of addresses that exist is $A \\subset \\lambda$\n",
    "\n",
    "The address $a \\subset \\lambda$ is called an **agent** when referring to an address which takes an action. Agent decisions and actions take place over time $t \\in Z^{v\\geq 0}$ such that at any timestep $t$, an agent can perform an array of agent actions represented as an ordered list of transactions. "
   ]
  },
  {
   "cell_type": "markdown",
   "metadata": {},
   "source": [
    "\n",
    "### Agent Class 1: Trader Agents\n",
    "Trader Agents can execute the *Bond-to-Mint* and *Burn-to-Withdraw* mechanisms. <br>\n",
    "\n",
    "Constitutes of roles:\n",
    "1. InvestmentAgent\n",
    " \n",
    "##### Operational Requirement 1\n",
    "Trader Agents can call the Bond Action and the Burn Action. \n",
    "##### Operational Requirement 2\n",
    "An agent which is able to execute the *Bond-to-Mint* or *Burn-to-Withdraw* mechanisms - such as Trader Agents - must not be involved in the Claim Evaluation, Claim Auditing, and Claim Resolution stages of the *Claim* mechanism as this creates a conflict of interest. \n",
    "\n",
    "### Agent Class 2: Claim & Dispute Issuers\n",
    "Claim & Dispute Issuers can execute the Claim Submission and Dispute Submission functions of the *Claim* mechanism. <br>\n",
    "\n",
    "Constitutes of roles:\n",
    "1. InvestmentAgent \n",
    "2. ServiceAgent \n",
    "3. BondIssuer \n",
    "4. ProjectOwner \n",
    "5. OutcomesPayer \n",
    " \n",
    "##### Operational Requirement 3\n",
    "Claim & Dispute Issuers call the SubmitClaim Action or SubmitDispute Action\n",
    "##### Operational Requirement 4\n",
    "Claim & Dispute Issuers are explicity excluded from having the ability to call EvaluateClaim Action, AuditClaim Action, or ResolveClaim Action. It would produce a conflict of interest if those that issue claims and disputes could also participate in evaluating, auditing, or resolving them.\n",
    " \n",
    "### Agent Class 3: Evaluators\n",
    "Claim Evaluators can execute the Claim Evaluation, Claim Auditing, and Claim Resolution functions of the *Claim* mechanism. <br>\n",
    "\n",
    "Constitutes of roles:\n",
    "1. VerificationAgent\n",
    "2. Administrator\n",
    "3. Auditor\n",
    "4. Arbitrator\n",
    " \n",
    "##### Operational Requirement 5\n",
    "Evaluators can call the EvaluateClaim Action, AuditClaim Action, or ResolveClaim Action to process Claims, or the EvaluateDispute Action or ResolveDispute Action to process Disputes\n",
    "##### Operational Requirement 6\n",
    "Agents involved in the Claim Evaluation, Claim Auditing, and Claim Resolution stages of the *Claim* mechanism, such as Claim & Dispute Evaluators, are explictly excluded from holding or trading bond tokens as it results in a conflict of interest. \n",
    "\n",
    "### Agent Class 4: Outcomes Payers\n",
    "Outcomes Payers evaluate the state of the project through the CompleteBond Action and  disburse the final payout to Bond token holders through the SettleBond Action, all according to the project terms. <br>\n",
    "\n",
    "Constitutes of roles:\n",
    "1. OutcomesPayers\n",
    " \n",
    "##### Operational Requirement 7\n",
    "OutcomesPayers can perform the CompleteBond Action and SettleBond Action. \n",
    "##### Operational Requirement 8\n",
    "OutcomesPayers are explicitly excluded from the ability to execute the EvaluateClaim Action, AuditClaim Action, ResolveClaim Action, EvaluateDispute Action and ResolveDispute Action.\n",
    "##### Operational Requirement 9\n",
    "OutcomesPayers are disincentivized from holding bond tokens.\n",
    "\n",
    "Since an OutcomesPayer makes the final decision evaluating if the bond or project terms satisfy the conditions for payout to InvestmentAgents and ProjectOwners, holding bond tokens presents a conflict of interest."
   ]
  },
  {
   "cell_type": "markdown",
   "metadata": {},
   "source": [
    "## System Boundary \n",
    "The system under consideration is at the bond system level. The level above the bond system consists of the project system, which accounts for all of the activities that take place on the project. Although the focus of this design is specifically on the bond system, the interface at the boundary and the flows of information and funds between project and bond must be considered. One more level out there is again the notion of a bond portfolio, which is comprised of multiple bonds. \n",
    "\n",
    "![system boundary diagram](artifacts/SystemBoundaryV1.png)\n",
    "\n",
    "## System Requirements \n",
    "\n",
    "#### System Requirement 1 \n",
    "The state of all Claims issued in a bond must reflect the state of the bonding curve. If the bonding curve state is not respected, Disputes will be issued against the Claims to regain the bonding curve state. \n",
    "\n",
    "The Dispute mechanism acts as a fail-safe, therefore making the protocol more resilient.\n",
    "\n",
    "#### System Requirement 2 \n",
    "The economic incentive layer of the system, which contains all the bonding curve mechanisms, must incentivize behaviour that achieves system goals. \n",
    "\n",
    "#### System Requirement 3\n",
    "All agent roles have restrictions over their action space, which are defined in the role's corresponding operational requirements."
   ]
  },
  {
   "cell_type": "markdown",
   "metadata": {},
   "source": [
    "## System State Variables\n",
    "\n",
    "#### Definition 2\n",
    "The **timestep** or period $t$ defined for the system is one block. A block contains an ordered list of transactions, also referred to as agent actions $u_t$. Therefore, in each timestep, an agent $a$ can perform multiple actions chosen from the set of all legal actions $U$.\n",
    "\n",
    "\n",
    "Note that some tests or simulations may call for a finer timestep granularity, for example 1 timestep = 1 transaction. At this granularity, only one agent action could be performed at a single timestep."
   ]
  },
  {
   "cell_type": "markdown",
   "metadata": {},
   "source": [
    "#### Definition 3\n",
    "The **agent-level state** represents all agent states at a given time $t$. The agent state is a vector $\\hat{x}_{a,t}$ making the agent state space $\\hat{X}_{a} \\in R^k$ such that $\\forall a, \\forall t, \\hat{x}_{a,t} \\in \\hat{X}_a$. Since the agent's state transition reflects an agent action, the agent-level state summarizes the flow of information in the system indexed by time. The agent-level state is given by\n",
    "\n",
    "$$     (\\hat{x}_{1,t}, \\hat{x}_{2,t}, \\ldots, \\hat{x}_{n,t})\\in\\prod_{a=1}^n\\hat{X}_a \\subseteq \\mathbb{R}^{nk}.\n",
    "$$"
   ]
  },
  {
   "cell_type": "markdown",
   "metadata": {},
   "source": [
    "#### Definition 4\n",
    "The **system state** is the network’s internal state composed of a finite number of elements, denoted by $\\bar{x}_t$. The system-level state depends on the information arrival process summarized by time $t$. The system-level state space is a set $\\bar{X} \\in R^m$, such that $\\forall t$, $\\bar{x}_t \\in \\bar{X}$ where $m$ is the number of finite elements. The system state $x_t$ is the state of all agents and the system-level state, and is given by\n",
    "\n",
    "$$\n",
    "x_t := (\\hat{x}_{1,t}, \\hat{x}_{2,t}, \\ldots, \\hat{x}_{n,t}, \\bar{x}_t) \\in X := \\prod_{a=1}^n\\hat{X}_a \\times \\bar{X} \\subseteq \\mathbb{R}^{nk} \\times \\mathbb{R}^m.\n",
    "$$"
   ]
  },
  {
   "cell_type": "markdown",
   "metadata": {},
   "source": [
    "#### Definition 5\n",
    "The **reserve** $R_t \\in \\mathbb{R}_{++}$ at time $t$ is the total quantity of external currency bonded to the bonding curve contract.\n",
    "\n",
    "At time $t$, each agent $a$ possess their holding of Bond Tokens, denoted by $r_{a,t}>0$"
   ]
  },
  {
   "cell_type": "markdown",
   "metadata": {},
   "source": [
    "#### Definition 6\n",
    "The **supply** $S_t \\in \\mathbb{R}_{++}$ at time $t$ is the total quantity of bond tokens issued by the bonding curve contract.\n",
    "\n",
    "At time $t$, the local state of agent $a$ comprises of the individual holding of bond tokens, $s_{a,t}$."
   ]
  },
  {
   "cell_type": "markdown",
   "metadata": {},
   "source": [
    "#### Definition 7\n",
    "The **price** signal $P_t \\in \\mathbb{R}_{++}$ at time $t$ is an estimate of the value of the bond token, in units of $R$ per units of $S$."
   ]
  },
  {
   "cell_type": "markdown",
   "metadata": {},
   "source": [
    "#### Definition 8\n",
    "The **Alpha** state variable $\\alpha \\in [0,1]$ is an estimate of the probability of project success. It is represented normalized such that $\\alpha=0$ indicates that the project is estimated to fail, and $\\alpha=1$ indicates the highest likelhood of success."
   ]
  },
  {
   "cell_type": "markdown",
   "metadata": {},
   "source": [
    "\n",
    "#### Defintion 10\n",
    "The **ProjectTime** state variable $p \\in \\mathbb{Z}_{++}$ describes the duration for which the project has been in the Execution phase. \n"
   ]
  },
  {
   "cell_type": "markdown",
   "metadata": {},
   "source": [
    "#### Defintion 11"
   ]
  },
  {
   "cell_type": "markdown",
   "metadata": {},
   "source": [
    "The **Reserve Ratio** $\\rho$  of a bond is the ratio of the value that is bonded to the bonding curve reserve to the total value of bond tokens issued (price * value of one bond token). It is given by $$\\rho = \\frac{R}{PS}$$"
   ]
  },
  {
   "cell_type": "markdown",
   "metadata": {},
   "source": [
    "#### Definition 12 (Not used)"
   ]
  },
  {
   "cell_type": "markdown",
   "metadata": {},
   "source": [
    "## Initialization Conditions\n",
    "The ProjectTime and Alpha state variables need to meet a pre-specified criteria for the state to transition into the Execution phase. In the bonding curve use case, the initialization conditions are also referred to as launch conditions."
   ]
  },
  {
   "cell_type": "markdown",
   "metadata": {},
   "source": [
    "#### Definition 13\n",
    "The **ProjectTime threshold** $p_{lim}$ describes the maximum allowable duration for a project's Execution phase. \n",
    "\n",
    "At initialization, $p_{lim}$ is set to a strictly positive finite integer $$p_{lim} \\in \\mathbb{Z}_{++}$$ $$p \\overset{set}{=} 0$$\n",
    "\n",
    "#### Definition 14\n",
    "The **Alpha threshold** is $\\alpha_{lim}$ describes the minimum alpha value required for the settlement to be successful. $\\alpha_{lim}$ is set to a positive finite integer during project initialization.\n",
    "\n",
    "At initialization, $\\alpha_{lim}$ is set to a real value between 0 and 1 $$\\alpha_{lim} \\in [0,1]$$"
   ]
  },
  {
   "cell_type": "markdown",
   "metadata": {},
   "source": [
    "## Settlement Conditions\n",
    "\n",
    "#### Condition 1\n",
    "For successful settlement, the project must complete execution before the duration specified by the ProjectTime threshold. If the project does not reach Settlement Phase before $p_{lim}$, the project fails settlement and is terminated. \n",
    "\n",
    "For successful settlement, $$p \\overset{!}{\\geq} p_{lim}$$\n",
    "\n",
    "\n",
    "#### Condition 2\n",
    "For successful settlement, the project's Alpha must be evaluated to be greater than or equal to $\\alpha_{lim}$ set at initialization. Failing to meet this criteria results in the failure of settlement and project termination.\n",
    "\n",
    "For successful settlement, $$\\alpha \\overset{!}{\\geq} \\alpha_{lim}$$"
   ]
  },
  {
   "cell_type": "markdown",
   "metadata": {},
   "source": [
    "![settlement phase diagram](artifacts/SettlementConsiderationPhasev1.png)"
   ]
  },
  {
   "cell_type": "markdown",
   "metadata": {},
   "source": [
    "## Mechanisms \n",
    "\n",
    "#### Definition 15\n",
    "The set of **mechanisms** is $F$ such that any $f \\in F$ is an operator $$f : \\mathcal{X} \\times U \\to \\mathcal{X}$$\n",
    "where $\\mathcal{X}$ is the space of all possible states $X$, and $U$ is the space of all legal actions associated with the mechanism $f$."
   ]
  },
  {
   "cell_type": "markdown",
   "metadata": {},
   "source": [
    "#### Functional Requirement 1\n",
    "The bonding curve mechanism should be robust enough to account for large or catastropic risks that occur at either extemes of the curve. \n",
    "\n",
    "[comment]: # (Define a cut off point for asymptotic portion of the curve)"
   ]
  },
  {
   "cell_type": "markdown",
   "metadata": {},
   "source": [
    "#### Mechanism 1 \n",
    "The **bond-to-mint** mechanism mints bond tokens in exchange of external currency through an agent’s action $u_{a, t}$ . The agent’s action represents a transaction to transfer $\\Delta R_t := r_{a,t} - r_{a, t+1} \\geq 0$ quantity of external currency into the bonding curve system. Quantity $\\Delta R_t$ of external currency is transferred into the bonding curve, resulting in \n",
    "\n",
    "System state, $x_{t+1}$\n",
    "\n",
    "$$R_{t+1} = R_{t} + \\Delta R_t$$\n"
   ]
  },
  {
   "cell_type": "markdown",
   "metadata": {},
   "source": [
    "Agent-level state, $\\hat x_{t+1}$\n",
    "\n",
    "$$r_{a, t+1} = r_t - \\Delta R_t$$\n"
   ]
  },
  {
   "cell_type": "markdown",
   "metadata": {},
   "source": [
    "#### Functional Requirement 2\n",
    "Upon the execution the Bond Action, bond tokens are added to the bonding curve. \n",
    "\n",
    "#### Mechanism 2 \n",
    "The **burn-to-withdraw** mechanism removes bond tokens to redeem external currency through an agent’s action $u_{a, t}$ . The agent’s action represents a transaction to remove $\\Delta S_t := s_{a, t\n",
    "} - s_{a, t+1} \\leq 0$ quantity of bond tokens from the bonding curve system. Quantity $\\Delta S_t$ of bond tokens are removed from the bonding curve, resulting in"
   ]
  },
  {
   "cell_type": "markdown",
   "metadata": {},
   "source": [
    "System state, $x_{t+1}$\n",
    "$$S_{t+1} = S_t + \\Delta S_t$$\n",
    "\n",
    "Agent-level state, $\\hat x_{t+1}$\n",
    "$$s_{a, t+1} = s_{a,t} - \\Delta S_t$$\n"
   ]
  },
  {
   "cell_type": "markdown",
   "metadata": {},
   "source": [
    "#### Functional Requirement 3\n",
    "Upon the execution of the Burn Action, bond tokens are removed from the bonding curve.\n",
    "\n",
    "#### Mechanism 3\n",
    "The **claim** mechanism involves the lifecycle of claims. Claims undergo the stages of submission, evaluation, audit, and resolution. Claims Submission: claims are submitted to prove impact or progress towards achieving the project's predetermined outcomes. Claim Evaluation: submitted claims go through a process of evaluation to verify their validity. Claim Auditing: submitted claims may be audited. Claim Resolution: claims are resolved and completed. During resolution, a dispute could be submitted which would result in subsequent dispute evaluation and resolution.\n",
    "\n",
    "![](https://i.imgur.com/vamnLGV.png)\n",
    "\n",
    "#### Functional Requirement 4\n",
    "A lack of trading activity on the bonding curve does not indicate a degradation of the Bond Alpha, Project Alpha, or the bonding curve itself. \n",
    "\n",
    "<!-- [comment]: # (Sustainability: Consider temporal effects on investor sentiment, i.e passage of time correlates with decaying excitement about project, thus lesser activity. However, sunk cost bias simultaneously is in contention with this.) -->"
   ]
  },
  {
   "cell_type": "markdown",
   "metadata": {},
   "source": [
    "#### Definition 16\n",
    "The bonding curve **conservation function** describes a conserved quantity, which is a functional relationship between the reserve and supply tokens, and is given by \n",
    "\n",
    "$$V(R_t,S_t)  := \\frac{S_t^\\kappa}{R_t} \\equiv V_0,$$\n",
    "\n",
    "where $V_0 = V(R_0,S_0) := \\frac{S_0^\\kappa}{R_0}$ is a constant defined by initial supply $S_0$ and initial reserve $R_0$. Parameter $\\kappa$ is the curvature of the bonding curve."
   ]
  },
  {
   "cell_type": "markdown",
   "metadata": {},
   "source": [
    "This conservation function imposed over the bonding curve ensures that the price of the token reflects the amount invested into projects in the platform, thus preventing imbalances through incentive design."
   ]
  }
 ],
 "metadata": {
  "kernelspec": {
   "display_name": "Python 3",
   "language": "python",
   "name": "python3"
  },
  "language_info": {
   "codemirror_mode": {
    "name": "ipython",
    "version": 3
   },
   "file_extension": ".py",
   "mimetype": "text/x-python",
   "name": "python",
   "nbconvert_exporter": "python",
   "pygments_lexer": "ipython3",
   "version": "3.7.4"
  }
 },
 "nbformat": 4,
 "nbformat_minor": 4
}